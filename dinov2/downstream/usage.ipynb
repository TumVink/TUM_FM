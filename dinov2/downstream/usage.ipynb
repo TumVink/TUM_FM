{
 "cells": [
  {
   "cell_type": "code",
   "execution_count": 1,
   "metadata": {},
   "outputs": [],
   "source": [
    "import os\n",
    "os.environ['CUDA_DEVICE_ORDER'] = 'PCI_BUS_ID' # aligns the GPU ids with what is displayed in nvidia-smi/nvtop\n",
    "os.environ['CUDA_VISIBLE_DEVICES'] = '3' # restrict the available GPUs\n",
    "\n",
    "import torch\n",
    "\n",
    "from models import TUMViTG, TUMViTG_modified\n",
    "\n",
    "torch.set_float32_matmul_precision(\"medium\") # make use of Tensor Cores\n",
    "torch._dynamo.config.suppress_errors = True # makes torch.compile work, regardless of xFormers"
   ]
  },
  {
   "cell_type": "code",
   "execution_count": null,
   "metadata": {},
   "outputs": [],
   "source": [
    "# use the prepared /mnt/data/nfs03-R6/TUMViTG.pth file\n",
    "\n",
    "model = TUMViTG(\"/mnt/data/nfs03-R6/TUMViTG.pth\", output_mode=\"class+mean\").cuda()\n",
    "model = model.eval()"
   ]
  },
  {
   "cell_type": "code",
   "execution_count": 3,
   "metadata": {},
   "outputs": [],
   "source": [
    "# xFormers makes torch.compile throw errors\n",
    "# So either install xFormers and don't use torch.compile\n",
    "# or use torch.compile but don't install xFormers\n",
    "\n",
    "# this 'torch._dynamo.config.suppress_errors = True' makes torch.compile work, regardless of xFormers\n",
    "# questionable if this gives the performance benefits of both\n",
    "\n",
    "# model = torch.compile(model, fullgraph=True, mode=\"reduce-overhead\")"
   ]
  },
  {
   "cell_type": "code",
   "execution_count": null,
   "metadata": {},
   "outputs": [],
   "source": [
    "input = torch.randn(4, 3, 224, 224, device=\"cuda\")\n",
    "\n",
    "with torch.no_grad():\n",
    "    output = model(input)\n",
    "\n",
    "print(output.shape)"
   ]
  },
  {
   "cell_type": "code",
   "execution_count": null,
   "metadata": {},
   "outputs": [],
   "source": [
    "modified_model = TUMViTG_modified(\"/mnt/data/nfs03-R6/TUMViTG.pth\", output_mode=\"class+mean\", img_size=(448, 896)).cuda()\n",
    "modified_model = modified_model.eval()"
   ]
  },
  {
   "cell_type": "code",
   "execution_count": null,
   "metadata": {},
   "outputs": [],
   "source": [
    "modified_input = torch.randn(4, 3, 448, 896, device=\"cuda\")\n",
    "\n",
    "with torch.no_grad():\n",
    "    modified_output = modified_model(modified_input)\n",
    "\n",
    "print(modified_output.shape)"
   ]
  }
 ],
 "metadata": {
  "kernelspec": {
   "display_name": "fixation",
   "language": "python",
   "name": "python3"
  },
  "language_info": {
   "codemirror_mode": {
    "name": "ipython",
    "version": 3
   },
   "file_extension": ".py",
   "mimetype": "text/x-python",
   "name": "python",
   "nbconvert_exporter": "python",
   "pygments_lexer": "ipython3",
   "version": "3.10.14"
  }
 },
 "nbformat": 4,
 "nbformat_minor": 2
}
