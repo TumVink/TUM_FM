{
 "cells": [
  {
   "cell_type": "code",
   "execution_count": 1,
   "metadata": {},
   "outputs": [],
   "source": [
    "import os\n",
    "os.environ['CUDA_DEVICE_ORDER'] = 'PCI_BUS_ID' # aligns the GPU ids with what is displayed in nvidia-smi/nvtop\n",
    "os.environ['CUDA_VISIBLE_DEVICES'] = '3' # restrict the available GPUs\n",
    "\n",
    "import torch\n",
    "\n",
    "from models import TUMViTG, TUMViTG_modified, timmTUMViTG\n",
    "\n",
    "torch.set_float32_matmul_precision(\"medium\") # make use of Tensor Cores\n",
    "torch._dynamo.config.suppress_errors = True # makes torch.compile work, regardless of xFormers"
   ]
  },
  {
   "cell_type": "code",
   "execution_count": null,
   "metadata": {},
   "outputs": [],
   "source": [
    "# use the prepared /mnt/data/nfs03-R6/TUMViTG.pth file\n",
    "\n",
    "model = TUMViTG(\"/mnt/data/nfs03-R6/TUMViTG.pth\", output_mode=\"class+mean\").cuda()\n",
    "model = model.eval()"
   ]
  },
  {
   "cell_type": "code",
   "execution_count": null,
   "metadata": {},
   "outputs": [],
   "source": [
    "# maps the pretrained weights to timm implementation\n",
    "# the torch.compiled timm implementation is about 1.5x to 2.5x faster than the original implementation with xformers\n",
    "# -> at least in my case :)\n",
    "\n",
    "# it has to be said: the timm implementation does not produce the exact same results as the original implementation\n",
    "# -> in my tests the actual difference was noticable in training and validation curves, but did not have any considerable impact on the final results\n",
    "# -> best to try both and see whether the performance benefits are worth the slight difference from the original implementation\n",
    "\n",
    "timm_model = timmTUMViTG(\"/mnt/data/nfs03-R6/TUMViTG.pth\", output_mode=\"class+mean\").cuda()\n",
    "timm_model = timm_model.eval()\n",
    "timm_model = torch.compile(timm_model, fullgraph=True)"
   ]
  },
  {
   "cell_type": "code",
   "execution_count": null,
   "metadata": {},
   "outputs": [],
   "source": [
    "input = torch.randn(4, 3, 224, 224, device=\"cuda\")\n",
    "\n",
    "with torch.no_grad():\n",
    "    output = model(input)\n",
    "\n",
    "print(output.shape)"
   ]
  },
  {
   "cell_type": "code",
   "execution_count": null,
   "metadata": {},
   "outputs": [],
   "source": [
    "modified_model = TUMViTG_modified(\"/mnt/data/nfs03-R6/TUMViTG.pth\", output_mode=\"class+mean\", img_size=(448, 896)).cuda()\n",
    "modified_model = modified_model.eval()"
   ]
  },
  {
   "cell_type": "code",
   "execution_count": null,
   "metadata": {},
   "outputs": [],
   "source": [
    "modified_input = torch.randn(4, 3, 448, 896, device=\"cuda\")\n",
    "\n",
    "with torch.no_grad():\n",
    "    modified_output = modified_model(modified_input)\n",
    "\n",
    "print(modified_output.shape)"
   ]
  }
 ],
 "metadata": {
  "kernelspec": {
   "display_name": "fixation",
   "language": "python",
   "name": "python3"
  },
  "language_info": {
   "codemirror_mode": {
    "name": "ipython",
    "version": 3
   },
   "file_extension": ".py",
   "mimetype": "text/x-python",
   "name": "python",
   "nbconvert_exporter": "python",
   "pygments_lexer": "ipython3",
   "version": "3.10.14"
  }
 },
 "nbformat": 4,
 "nbformat_minor": 2
}
